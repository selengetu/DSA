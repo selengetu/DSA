{
  "nbformat": 4,
  "nbformat_minor": 0,
  "metadata": {
    "colab": {
      "provenance": [],
      "authorship_tag": "ABX9TyO/ECrPT+sjhhERV/5bZJuu",
      "include_colab_link": true
    },
    "kernelspec": {
      "name": "python3",
      "display_name": "Python 3"
    },
    "language_info": {
      "name": "python"
    }
  },
  "cells": [
    {
      "cell_type": "markdown",
      "metadata": {
        "id": "view-in-github",
        "colab_type": "text"
      },
      "source": [
        "<a href=\"https://colab.research.google.com/github/selengetu/DSA/blob/main/Fibonaci.ipynb\" target=\"_parent\"><img src=\"https://colab.research.google.com/assets/colab-badge.svg\" alt=\"Open In Colab\"/></a>"
      ]
    },
    {
      "cell_type": "code",
      "execution_count": 1,
      "metadata": {
        "colab": {
          "base_uri": "https://localhost:8080/"
        },
        "id": "lO6lHOb0jlpK",
        "outputId": "81ba8b5d-156e-4aa2-ce31-a7f1c3443785"
      },
      "outputs": [
        {
          "output_type": "stream",
          "name": "stdout",
          "text": [
            "0\n",
            "1\n",
            "1\n",
            "2\n",
            "3\n",
            "5\n",
            "8\n",
            "13\n",
            "21\n",
            "34\n",
            "55\n",
            "89\n",
            "144\n",
            "233\n",
            "377\n",
            "610\n",
            "987\n",
            "1597\n",
            "2584\n",
            "4181\n",
            "6765\n",
            "10946\n",
            "17711\n",
            "28657\n",
            "46368\n",
            "75025\n",
            "121393\n",
            "196418\n",
            "317811\n",
            "514229\n",
            "832040\n"
          ]
        }
      ],
      "source": [
        "# Fibonacci numbers\n",
        "\n",
        "# Two variables to hold the previous two Fibonacci numbers\n",
        "prev2 = 0\n",
        "prev1 = 1\n",
        "\n",
        "print(prev2)\n",
        "print(prev1)\n",
        "\n",
        "#A for loop that runs 28 times\n",
        "for fibo in range(28):\n",
        "#Create new Fibonacci numbers by adding the two previous ones\n",
        "    newFibo = prev1 + prev2\n",
        "#Print the new Fibonacci number\n",
        "    print(newFibo)\n",
        "#Update the variables that hold the previous two fibonacci numbers\n",
        "    prev2 = prev1\n",
        "    prev1 = newFibo"
      ]
    },
    {
      "cell_type": "code",
      "source": [
        "# Using Recursion\n",
        "print(0)\n",
        "print(1)\n",
        "count = 2\n",
        "\n",
        "def fibonacci(prev1, prev2):\n",
        "    global count\n",
        "    if count <= 19:\n",
        "        newFibo = prev1 + prev2\n",
        "        print(newFibo)\n",
        "        prev2 = prev1\n",
        "        prev1 = newFibo\n",
        "        count += 1\n",
        "        fibonacci(prev1, prev2)\n",
        "    else:\n",
        "        return\n",
        "\n",
        "fibonacci(1,0)"
      ],
      "metadata": {
        "colab": {
          "base_uri": "https://localhost:8080/"
        },
        "id": "1YHdeFZPkWL1",
        "outputId": "ca6c5b13-9b36-4ba6-d8bd-f6d6d318c1cc"
      },
      "execution_count": 2,
      "outputs": [
        {
          "output_type": "stream",
          "name": "stdout",
          "text": [
            "0\n",
            "1\n",
            "1\n",
            "2\n",
            "3\n",
            "5\n",
            "8\n",
            "13\n",
            "21\n",
            "34\n",
            "55\n",
            "89\n",
            "144\n",
            "233\n",
            "377\n",
            "610\n",
            "987\n",
            "1597\n",
            "2584\n",
            "4181\n"
          ]
        }
      ]
    },
    {
      "cell_type": "code",
      "source": [
        "def F(n):\n",
        "    if n <= 1:\n",
        "        return n\n",
        "    else:\n",
        "        return F(n - 1) + F(n - 2)\n",
        "\n",
        "print(F(19))\n",
        "\n",
        "#Python"
      ],
      "metadata": {
        "colab": {
          "base_uri": "https://localhost:8080/"
        },
        "id": "aQ9idB6OlBmV",
        "outputId": "a6ff137a-2881-4bc0-cbaa-c732c84269ea"
      },
      "execution_count": 3,
      "outputs": [
        {
          "output_type": "stream",
          "name": "stdout",
          "text": [
            "4181\n"
          ]
        }
      ]
    }
  ]
}