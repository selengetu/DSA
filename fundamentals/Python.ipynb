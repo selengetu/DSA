{
 "cells": [
  {
   "cell_type": "code",
   "execution_count": 11,
   "metadata": {},
   "outputs": [
    {
     "name": "stdout",
     "output_type": "stream",
     "text": [
      "['Ford', 'Volvo', 'BMW']\n"
     ]
    }
   ],
   "source": [
    "cars = [\"Ford\", \"Volvo\", \"BMW\"]\n",
    "print(cars)"
   ]
  },
  {
   "cell_type": "code",
   "execution_count": 12,
   "metadata": {},
   "outputs": [
    {
     "name": "stdout",
     "output_type": "stream",
     "text": [
      "['Ford', 'Volvo', 'BMW', 'Honda']\n"
     ]
    }
   ],
   "source": [
    "cars.append(\"Honda\")\n",
    "print(cars)"
   ]
  },
  {
   "cell_type": "code",
   "execution_count": 14,
   "metadata": {},
   "outputs": [
    {
     "name": "stdout",
     "output_type": "stream",
     "text": [
      "['Ford', 'BMW']\n"
     ]
    }
   ],
   "source": [
    "cars.pop(1)\n",
    "print(cars)"
   ]
  },
  {
   "cell_type": "code",
   "execution_count": 17,
   "metadata": {},
   "outputs": [
    {
     "name": "stdout",
     "output_type": "stream",
     "text": [
      "Ford\n"
     ]
    }
   ],
   "source": [
    "x = cars[0]\n",
    "print(x)"
   ]
  },
  {
   "cell_type": "code",
   "execution_count": 18,
   "metadata": {},
   "outputs": [
    {
     "name": "stdout",
     "output_type": "stream",
     "text": [
      "2\n"
     ]
    }
   ],
   "source": [
    "print(len(cars))"
   ]
  },
  {
   "cell_type": "code",
   "execution_count": 19,
   "metadata": {},
   "outputs": [
    {
     "name": "stdout",
     "output_type": "stream",
     "text": [
      "Ford\n",
      "BMW\n"
     ]
    }
   ],
   "source": [
    "for x in cars:\n",
    "    print(x)"
   ]
  },
  {
   "cell_type": "code",
   "execution_count": 23,
   "metadata": {},
   "outputs": [
    {
     "ename": "ValueError",
     "evalue": "list.remove(x): x not in list",
     "output_type": "error",
     "traceback": [
      "\u001b[0;31m---------------------------------------------------------------------------\u001b[0m",
      "\u001b[0;31mValueError\u001b[0m                                Traceback (most recent call last)",
      "Cell \u001b[0;32mIn[23], line 1\u001b[0m\n\u001b[0;32m----> 1\u001b[0m cars\u001b[38;5;241m.\u001b[39mremove(\u001b[38;5;124m'\u001b[39m\u001b[38;5;124mBMW\u001b[39m\u001b[38;5;124m'\u001b[39m)\n",
      "\u001b[0;31mValueError\u001b[0m: list.remove(x): x not in list"
     ]
    }
   ],
   "source": [
    "cars.remove('BMW')"
   ]
  },
  {
   "cell_type": "code",
   "execution_count": 24,
   "metadata": {},
   "outputs": [
    {
     "name": "stdout",
     "output_type": "stream",
     "text": [
      "['Ford']\n"
     ]
    }
   ],
   "source": [
    "print(cars)"
   ]
  },
  {
   "cell_type": "code",
   "execution_count": 25,
   "metadata": {},
   "outputs": [],
   "source": [
    "cars.clear()"
   ]
  },
  {
   "cell_type": "code",
   "execution_count": 26,
   "metadata": {},
   "outputs": [],
   "source": [
    "cars.append(1)"
   ]
  },
  {
   "cell_type": "code",
   "execution_count": 32,
   "metadata": {},
   "outputs": [
    {
     "name": "stdout",
     "output_type": "stream",
     "text": [
      "1\n"
     ]
    }
   ],
   "source": [
    "from array import array\n",
    "arr = array('i', [1, 2, 3, 4])  # Array of integers\n",
    "print((arr[0]))"
   ]
  },
  {
   "cell_type": "code",
   "execution_count": 36,
   "metadata": {},
   "outputs": [
    {
     "name": "stdout",
     "output_type": "stream",
     "text": [
      "2\n"
     ]
    }
   ],
   "source": [
    "fruits = ['apple', 'banana', 'cherry']\n",
    "\n",
    "cars = ['Ford', 'BMW', 'Volvo']\n",
    "\n",
    "fruits=  fruits + cars\n",
    "\n",
    "x = fruits.index(\"cherry\")\n",
    "print(x)"
   ]
  },
  {
   "cell_type": "code",
   "execution_count": 43,
   "metadata": {},
   "outputs": [
    {
     "name": "stdout",
     "output_type": "stream",
     "text": [
      "['apple', 'orange', 'banana', 'cherry']\n"
     ]
    }
   ],
   "source": [
    "fruits = ['apple', 'banana', 'cherry']\n",
    "\n",
    "fruits.insert(1, \"orange\")\n",
    "\n",
    "print(fruits)\n",
    "\n",
    "fruits.remove('apple')\n",
    "\n",
    "print"
   ]
  },
  {
   "cell_type": "code",
   "execution_count": 44,
   "metadata": {},
   "outputs": [
    {
     "name": "stdout",
     "output_type": "stream",
     "text": [
      "['orange', 'banana', 'cherry']\n"
     ]
    }
   ],
   "source": [
    "print(fruits)"
   ]
  },
  {
   "cell_type": "code",
   "execution_count": 46,
   "metadata": {},
   "outputs": [
    {
     "name": "stdout",
     "output_type": "stream",
     "text": [
      "[1, 5, 4, 2, 3]\n",
      "Sorted list:\n",
      "[1, 2, 3, 4, 5]\n",
      "\n",
      "Original list after sorting:\n",
      "[1, 5, 4, 2, 3]\n"
     ]
    }
   ],
   "source": [
    "\n",
    "\n",
    "\n",
    "L = [1, 5, 4, 2, 3]\n",
    "print(L)\n",
    "#Print the sorted list\n",
    "print(\"Sorted list:\")\n",
    "print(sorted(L))\n",
    " \n",
    "#Print the original list\n",
    "print(\"\\nOriginal list after sorting:\")\n",
    "print(L)"
   ]
  },
  {
   "cell_type": "code",
   "execution_count": 47,
   "metadata": {},
   "outputs": [
    {
     "name": "stdout",
     "output_type": "stream",
     "text": [
      "[1, 5, 4, 2, 3]\n",
      "Sorted list:\n",
      "[1, 2, 3, 4, 5]\n",
      "\n",
      "Original list after sorting:\n",
      "[1, 2, 3, 4, 5]\n"
     ]
    }
   ],
   "source": [
    "L = [1, 5, 4, 2, 3]\n",
    "print(L)\n",
    "# Sorting the list in-place using sort()\n",
    "L.sort()\n",
    "\n",
    "# Print the sorted list\n",
    "print(\"Sorted list:\")\n",
    "print(L)\n",
    "\n",
    "# Print the original list after sorting\n",
    "print(\"\\nOriginal list after sorting:\")\n",
    "print(L)\n"
   ]
  },
  {
   "cell_type": "code",
   "execution_count": 49,
   "metadata": {},
   "outputs": [
    {
     "name": "stdout",
     "output_type": "stream",
     "text": [
      "Original List: ['q', 'w', 'r', 'e', 't', 'y']\n",
      "Sorted List: ['e', 'q', 'r', 't', 'w', 'y']\n",
      "['q', 'w', 'r', 'e', 't', 'y']\n",
      "\n",
      "Original Tuple: ('q', 'w', 'e', 'r', 't', 'y')\n",
      "Sorted Tuple: ['e', 'q', 'r', 't', 'w', 'y']\n",
      "('q', 'w', 'e', 'r', 't', 'y')\n"
     ]
    }
   ],
   "source": [
    "# List\n",
    "x_list = ['q', 'w', 'r', 'e', 't', 'y']\n",
    "print(\"Original List:\", x_list)\n",
    "sorted_list = sorted(x_list)\n",
    "print(\"Sorted List:\", sorted_list)\n",
    "print(x_list)\n",
    " \n",
    "# Tuple\n",
    "x_tuple = ('q', 'w', 'e', 'r', 't', 'y')\n",
    "print(\"\\nOriginal Tuple:\", x_tuple)\n",
    "sorted_tuple = sorted(x_tuple)\n",
    "print(\"Sorted Tuple:\", sorted_tuple)\n",
    "print(x_tuple)"
   ]
  },
  {
   "cell_type": "code",
   "execution_count": 51,
   "metadata": {},
   "outputs": [
    {
     "name": "stdout",
     "output_type": "stream",
     "text": [
      "Original List: [1, 3, 4, 2]\n",
      "Sorted List (Descending Order): [4, 3, 2, 1]\n",
      "[4, 3, 2, 1]\n",
      "\n",
      "Original List: [2.01, 2.0, 3.67, 3.28, 1.68]\n",
      "Sorted List (Descending Order): [3.67, 3.28, 2.01, 2.0, 1.68]\n",
      "[3.67, 3.28, 2.01, 2.0, 1.68]\n",
      "\n",
      "Original List: ['Geeks', 'For', 'Geeks']\n",
      "Sorted List (Descending Order): ['Geeks', 'Geeks', 'For']\n",
      "['Geeks', 'Geeks', 'For']\n"
     ]
    }
   ],
   "source": [
    "# Using sort() with reverse for List of Integers, Floating Point Numbers, and Strings\n",
    "\n",
    "# List of Integers\n",
    "numbers = [1, 3, 4, 2]\n",
    "print(\"Original List:\", numbers)\n",
    "numbers.sort(reverse=True)\n",
    "print(\"Sorted List (Descending Order):\", numbers)\n",
    "print(numbers)\n",
    "\n",
    "# List of Floating Point Numbers\n",
    "decimal_numbers = [2.01, 2.00, 3.67, 3.28, 1.68]\n",
    "print(\"\\nOriginal List:\", decimal_numbers)\n",
    "decimal_numbers.sort(reverse=True)\n",
    "print(\"Sorted List (Descending Order):\", decimal_numbers)\n",
    "print(decimal_numbers)\n",
    "\n",
    "# List of Strings\n",
    "words = [\"Geeks\", \"For\", \"Geeks\"]\n",
    "print(\"\\nOriginal List:\", words)\n",
    "words.sort(reverse=True)\n",
    "print(\"Sorted List (Descending Order):\", words)\n",
    "print(words)\n"
   ]
  },
  {
   "cell_type": "code",
   "execution_count": 55,
   "metadata": {},
   "outputs": [
    {
     "name": "stdout",
     "output_type": "stream",
     "text": [
      "Original List: [1, 3, 4, 2]\n",
      "Sorted List (Descending Order): [4, 3, 2, 1]\n",
      "\n",
      "Original List: [2.01, 2.0, 3.67, 3.28, 1.68]\n",
      "Sorted List (Descending Order): [3.67, 3.28, 2.01, 2.0, 1.68]\n",
      "\n",
      "Original List: ['Geeks', 'For', 'Geeks']\n",
      "Sorted List (Descending Order): ['Geeks', 'Geeks', 'For']\n"
     ]
    }
   ],
   "source": [
    "# Using sort() with reverse for List of Integers, Floating Point Numbers, and Strings\n",
    "\n",
    "# List of Integers\n",
    "numbers = [1, 3, 4, 2]\n",
    "print(\"Original List:\", numbers)\n",
    "numbers.sort(reverse=True)\n",
    "print(\"Sorted List (Descending Order):\", numbers)\n",
    "\n",
    "# List of Floating Point Numbers\n",
    "decimal_numbers = [2.01, 2.00, 3.67, 3.28, 1.68]\n",
    "print(\"\\nOriginal List:\", decimal_numbers)\n",
    "decimal_numbers.sort(reverse=True)\n",
    "print(\"Sorted List (Descending Order):\", decimal_numbers)\n",
    "\n",
    "# List of Strings\n",
    "words = [\"Geeks\", \"For\", \"Geeks\"]\n",
    "print(\"\\nOriginal List:\", words)\n",
    "words.sort(reverse=True)\n",
    "print(\"Sorted List (Descending Order):\", words)\n"
   ]
  },
  {
   "cell_type": "code",
   "execution_count": 57,
   "metadata": {},
   "outputs": [
    {
     "name": "stdout",
     "output_type": "stream",
     "text": [
      "Original List: [1, 3, 4, 2]\n",
      "Sorted List (Descending Order): [4, 3, 2, 1]\n",
      "[1, 3, 4, 2]\n",
      "\n",
      "Original List: [2.01, 2.0, 3.67, 3.28, 1.68]\n",
      "Sorted List (Descending Order): [3.67, 3.28, 2.01, 2.0, 1.68]\n",
      "[2.01, 2.0, 3.67, 3.28, 1.68]\n",
      "\n",
      "Original List: ['Geeks', 'For', 'Geeks']\n",
      "Sorted List (Descending Order): ['Geeks', 'Geeks', 'For']\n",
      "['Geeks', 'For', 'Geeks']\n"
     ]
    }
   ],
   "source": [
    "# Using sorted() with reverse for List of Integers, Floating Point Numbers, and Strings\n",
    "\n",
    "# List of Integers\n",
    "numbers = [1, 3, 4, 2]\n",
    "print(\"Original List:\", numbers)\n",
    "sorted_numbers = sorted(numbers, reverse=True)\n",
    "print(\"Sorted List (Descending Order):\", sorted_numbers)\n",
    "print(numbers)\n",
    "\n",
    "# List of Floating Point Numbers\n",
    "decimal_numbers = [2.01, 2.00, 3.67, 3.28, 1.68]\n",
    "print(\"\\nOriginal List:\", decimal_numbers)\n",
    "sorted_decimal_numbers = sorted(decimal_numbers, reverse=True)\n",
    "print(\"Sorted List (Descending Order):\", sorted_decimal_numbers)\n",
    "print(decimal_numbers)\n",
    "\n",
    "# List of Strings\n",
    "words = [\"Geeks\", \"For\", \"Geeks\"]\n",
    "print(\"\\nOriginal List:\", words)\n",
    "sorted_words = sorted(words, reverse=True)\n",
    "print(\"Sorted List (Descending Order):\", sorted_words)\n",
    "print(words)"
   ]
  },
  {
   "cell_type": "code",
   "execution_count": 60,
   "metadata": {},
   "outputs": [
    {
     "name": "stdout",
     "output_type": "stream",
     "text": [
      "['BMW', 'Ford', 'Volvo']\n"
     ]
    }
   ],
   "source": [
    "cars = ['Ford', 'BMW', 'Volvo']\n",
    "\n",
    "cars.sort()\n",
    "\n",
    "print(cars)"
   ]
  },
  {
   "cell_type": "code",
   "execution_count": 62,
   "metadata": {},
   "outputs": [
    {
     "name": "stdout",
     "output_type": "stream",
     "text": [
      "['Volvo', 'Ford', 'BMW']\n"
     ]
    }
   ],
   "source": [
    "cars.sort(reverse=True)\n",
    "print(cars)"
   ]
  },
  {
   "cell_type": "code",
   "execution_count": 64,
   "metadata": {},
   "outputs": [
    {
     "name": "stdout",
     "output_type": "stream",
     "text": [
      "[{'car': 'Mitsubishi', 'year': 2000}, {'car': 'Ford', 'year': 2005}, {'car': 'VW', 'year': 2011}, {'car': 'BMW', 'year': 2019}]\n"
     ]
    }
   ],
   "source": [
    "def myFunc(e):\n",
    "  return e['year']\n",
    "\n",
    "cars = [\n",
    "  {'car': 'Ford', 'year': 2005},\n",
    "  {'car': 'Mitsubishi', 'year': 2000},\n",
    "  {'car': 'BMW', 'year': 2019},\n",
    "  {'car': 'VW', 'year': 2011}\n",
    "]\n",
    "\n",
    "cars.sort(key=myFunc)\n",
    "\n",
    "print(cars)"
   ]
  },
  {
   "cell_type": "code",
   "execution_count": 65,
   "metadata": {},
   "outputs": [
    {
     "name": "stdout",
     "output_type": "stream",
     "text": [
      "['VW', 'BMW', 'Ford', 'Mitsubishi']\n"
     ]
    }
   ],
   "source": [
    "# A function that returns the length of the value:\n",
    "def myFunc(e):\n",
    "  return len(e)\n",
    "\n",
    "cars = ['Ford', 'Mitsubishi', 'BMW', 'VW']\n",
    "\n",
    "cars.sort(key=myFunc)\n",
    "print(cars)"
   ]
  },
  {
   "cell_type": "code",
   "execution_count": 67,
   "metadata": {},
   "outputs": [
    {
     "name": "stdout",
     "output_type": "stream",
     "text": [
      "cherry\n"
     ]
    }
   ],
   "source": [
    "thislist = [\"apple\", \"banana\", \"cherry\"]\n",
    "print(thislist[-1])"
   ]
  },
  {
   "cell_type": "code",
   "execution_count": 70,
   "metadata": {},
   "outputs": [
    {
     "name": "stdout",
     "output_type": "stream",
     "text": [
      "['apple', 'banana', 'cherry', 'orange']\n",
      "['cherry', 'orange', 'kiwi', 'melon', 'mango']\n",
      "['orange', 'kiwi', 'melon']\n"
     ]
    }
   ],
   "source": [
    "thislist = [\"apple\", \"banana\", \"cherry\", \"orange\", \"kiwi\", \"melon\", \"mango\"]\n",
    "print(thislist[:4])\n",
    "print(thislist[2:])\n",
    "print(thislist[-4:-1])"
   ]
  },
  {
   "cell_type": "code",
   "execution_count": 72,
   "metadata": {},
   "outputs": [
    {
     "name": "stdout",
     "output_type": "stream",
     "text": [
      "['apple', 'blackcurrant', 'orange', 'kiwi', 'mango']\n"
     ]
    }
   ],
   "source": [
    "thislist = [\"apple\", \"banana\", \"cherry\", \"orange\", \"kiwi\", \"mango\"]\n",
    "thislist[1:3] = [\"blackcurrant\"]\n",
    "print(thislist)"
   ]
  },
  {
   "cell_type": "code",
   "execution_count": 73,
   "metadata": {},
   "outputs": [
    {
     "name": "stdout",
     "output_type": "stream",
     "text": [
      "['apple', 'banana', 'watermelon', 'cherry']\n"
     ]
    }
   ],
   "source": [
    "thislist = [\"apple\", \"banana\", \"cherry\"]\n",
    "thislist.insert(2, \"watermelon\")\n",
    "print(thislist)"
   ]
  },
  {
   "cell_type": "code",
   "execution_count": 95,
   "metadata": {},
   "outputs": [
    {
     "name": "stdout",
     "output_type": "stream",
     "text": [
      "['mango', 'pineapple', 'papaya', 'a', 'p', 'p', 'l', 'e']\n"
     ]
    }
   ],
   "source": [
    "thislist =\"apple\"\n",
    "tropical = [\"mango\", \"pineapple\", \"papaya\"]\n",
    "\n",
    "tropical.extend(thislist)\n",
    "tropical.append()\n",
    "\n",
    "print(tropical)\n"
   ]
  },
  {
   "cell_type": "code",
   "execution_count": 98,
   "metadata": {},
   "outputs": [
    {
     "name": "stdout",
     "output_type": "stream",
     "text": [
      "['apple', 'cherry', 'banana', 'kiwi']\n"
     ]
    }
   ],
   "source": [
    "thislist = [\"apple\", \"banana\", \"cherry\", \"banana\", \"kiwi\"]\n",
    "thislist.remove(\"banana\")\n",
    "print(thislist)"
   ]
  },
  {
   "cell_type": "code",
   "execution_count": 100,
   "metadata": {},
   "outputs": [
    {
     "name": "stdout",
     "output_type": "stream",
     "text": [
      "['apple', 'banana']\n"
     ]
    }
   ],
   "source": [
    "thislist = [\"apple\", \"banana\", \"cherry\"]\n",
    "thislist.pop()\n",
    "print(thislist)"
   ]
  },
  {
   "cell_type": "code",
   "execution_count": 101,
   "metadata": {},
   "outputs": [
    {
     "name": "stdout",
     "output_type": "stream",
     "text": [
      "apple\n",
      "banana\n",
      "cherry\n"
     ]
    }
   ],
   "source": [
    "thislist = [\"apple\", \"banana\", \"cherry\"]\n",
    "for x in thislist:\n",
    "  print(x)"
   ]
  },
  {
   "cell_type": "code",
   "execution_count": 102,
   "metadata": {},
   "outputs": [
    {
     "name": "stdout",
     "output_type": "stream",
     "text": [
      "apple\n",
      "banana\n",
      "cherry\n"
     ]
    }
   ],
   "source": [
    "thislist = [\"apple\", \"banana\", \"cherry\"]\n",
    "for i in range(len(thislist)):\n",
    "  print(thislist[i])"
   ]
  },
  {
   "cell_type": "code",
   "execution_count": 103,
   "metadata": {},
   "outputs": [
    {
     "name": "stdout",
     "output_type": "stream",
     "text": [
      "apple\n",
      "banana\n",
      "cherry\n"
     ]
    }
   ],
   "source": [
    "thislist = [\"apple\", \"banana\", \"cherry\"]\n",
    "i = 0\n",
    "while i < len(thislist):\n",
    "  print(thislist[i])\n",
    "  i = i + 1"
   ]
  },
  {
   "cell_type": "code",
   "execution_count": 104,
   "metadata": {},
   "outputs": [
    {
     "name": "stdout",
     "output_type": "stream",
     "text": [
      "apple\n",
      "banana\n",
      "cherry\n"
     ]
    },
    {
     "data": {
      "text/plain": [
       "[None, None, None]"
      ]
     },
     "execution_count": 104,
     "metadata": {},
     "output_type": "execute_result"
    }
   ],
   "source": [
    "thislist = [\"apple\", \"banana\", \"cherry\"]\n",
    "[print(x) for x in thislist]"
   ]
  },
  {
   "cell_type": "code",
   "execution_count": 105,
   "metadata": {},
   "outputs": [
    {
     "name": "stdout",
     "output_type": "stream",
     "text": [
      "['apple', 'banana', 'mango']\n"
     ]
    }
   ],
   "source": [
    "fruits = [\"apple\", \"banana\", \"cherry\", \"kiwi\", \"mango\"]\n",
    "newlist = []\n",
    "\n",
    "for x in fruits:\n",
    "  if \"a\" in x:\n",
    "    newlist.append(x)\n",
    "\n",
    "print(newlist)"
   ]
  },
  {
   "cell_type": "code",
   "execution_count": 106,
   "metadata": {},
   "outputs": [
    {
     "name": "stdout",
     "output_type": "stream",
     "text": [
      "['apple', 'banana', 'mango']\n"
     ]
    }
   ],
   "source": [
    "newlist = [x for x in fruits if \"a\" in x]\n",
    "\n",
    "print(newlist)"
   ]
  },
  {
   "cell_type": "code",
   "execution_count": 107,
   "metadata": {},
   "outputs": [],
   "source": [
    "newlist = [x for x in fruits]"
   ]
  },
  {
   "cell_type": "code",
   "execution_count": 110,
   "metadata": {},
   "outputs": [],
   "source": [
    "from typing import List\n",
    "class Solution:\n",
    "    def numUniqueEmails(self, emails: List[str]) -> int:\n",
    "        return emails\n",
    "    "
   ]
  },
  {
   "cell_type": "code",
   "execution_count": 113,
   "metadata": {},
   "outputs": [
    {
     "name": "stdout",
     "output_type": "stream",
     "text": [
      "['test.email+alex@leetcode.com', 'test.e.mail+bob.cathy@leetcode.com', 'testemail+david@lee.tcode.com']\n"
     ]
    }
   ],
   "source": [
    "solution = Solution()\n",
    "\n",
    "# Test case 1\n",
    "emails = [\n",
    "    \"test.email+alex@leetcode.com\", \n",
    "    \"test.e.mail+bob.cathy@leetcode.com\", \n",
    "    \"testemail+david@lee.tcode.com\"\n",
    "]\n",
    "print(solution.numUniqueEmails(emails))\n"
   ]
  }
 ],
 "metadata": {
  "kernelspec": {
   "display_name": "base",
   "language": "python",
   "name": "python3"
  },
  "language_info": {
   "codemirror_mode": {
    "name": "ipython",
    "version": 3
   },
   "file_extension": ".py",
   "mimetype": "text/x-python",
   "name": "python",
   "nbconvert_exporter": "python",
   "pygments_lexer": "ipython3",
   "version": "3.11.5"
  }
 },
 "nbformat": 4,
 "nbformat_minor": 2
}
