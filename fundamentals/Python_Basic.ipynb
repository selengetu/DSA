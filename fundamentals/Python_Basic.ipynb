{
 "cells": [
  {
   "cell_type": "code",
   "execution_count": 1,
   "metadata": {},
   "outputs": [
    {
     "name": "stdout",
     "output_type": "stream",
     "text": [
      "7\n",
      "[7, 12, 9, 4, 11]\n"
     ]
    }
   ],
   "source": [
    "my_array = [7, 12, 9, 4, 11]\n",
    "print( my_array[0] )\n",
    "print(my_array)"
   ]
  },
  {
   "cell_type": "code",
   "execution_count": 2,
   "metadata": {},
   "outputs": [
    {
     "name": "stdout",
     "output_type": "stream",
     "text": [
      "Lowest value:  4\n"
     ]
    }
   ],
   "source": [
    "my_array = [7, 12, 9, 4, 11]\n",
    "minVal = my_array[0]    # Step 1\n",
    "\n",
    "for i in my_array:      # Step 2\n",
    "    if i < minVal:      # Step 3\n",
    "        minVal = i\n",
    "\n",
    "print('Lowest value: ',minVal) # Step 4"
   ]
  },
  {
   "cell_type": "code",
   "execution_count": 1,
   "metadata": {},
   "outputs": [
    {
     "name": "stdout",
     "output_type": "stream",
     "text": [
      "45.0\n",
      "45.0\n",
      "45.0\n",
      "25.0\n",
      "25\n"
     ]
    }
   ],
   "source": [
    "\n",
    "print((5 + 4) * 10 / 2)\n",
    "\n",
    "print(((5 + 4) * 10) / 2)\n",
    "\n",
    "print((5 + 4) * (10 / 2))\n",
    "\n",
    "print(5 + (4 * 10) / 2)\n",
    "\n",
    "print(5 + 4 * 10 // 2)\n"
   ]
  },
  {
   "cell_type": "code",
   "execution_count": 3,
   "metadata": {},
   "outputs": [
    {
     "name": "stdout",
     "output_type": "stream",
     "text": [
      "6\n"
     ]
    }
   ],
   "source": [
    "counter = 0\n",
    "\n",
    "counter += 1\n",
    "counter += 1\n",
    "counter += 1\n",
    "counter += 1\n",
    "counter -= 1\n",
    "counter *= 2\n",
    "\n",
    "print(counter)"
   ]
  },
  {
   "cell_type": "code",
   "execution_count": 5,
   "metadata": {},
   "outputs": [
    {
     "name": "stdout",
     "output_type": "stream",
     "text": [
      "Hello Cindy, your balance is 50.\n",
      "Hello Cindy, your balance is 50.\n",
      "Hello Cindy, your balance is 50.\n",
      "Hello Cindy, your balance is 50.\n",
      "Hello Cindy, your balance is 50.\n"
     ]
    }
   ],
   "source": [
    "print(\"Hello {}, your balance is {}.\".format(\"Cindy\", 50))\n",
    "\n",
    "print(\"Hello {0}, your balance is {1}.\".format(\"Cindy\", 50))\n",
    "\n",
    "print(\"Hello {name}, your balance is {amount}.\".format(name=\"Cindy\", amount=50))\n",
    "\n",
    "print(\"Hello {0}, your balance is {amount}.\".format(\"Cindy\", amount=50))\n",
    "\n",
    "name = 'Cindy'\n",
    "amount = 50\n",
    "print(f\"Hello {name}, your balance is {amount}.\")"
   ]
  },
  {
   "cell_type": "code",
   "execution_count": 6,
   "metadata": {},
   "outputs": [
    {
     "name": "stdout",
     "output_type": "stream",
     "text": [
      " am\n",
      " am PYHTON\n",
      "I am PYHTON\n",
      " am PYHTON\n",
      "N\n",
      "H\n",
      "I am PYH\n",
      "TON\n",
      "NOTHYP ma I\n"
     ]
    }
   ],
   "source": [
    "python = 'I am PYHTON'\n",
    "\n",
    "print(python[1:4])\n",
    "print(python[1:])\n",
    "print(python[:])\n",
    "print(python[1:100])\n",
    "print(python[-1])\n",
    "print(python[-4])\n",
    "print(python[:-3])\n",
    "print(python[-3:])\n",
    "print(python[::-1])"
   ]
  },
  {
   "cell_type": "code",
   "execution_count": 9,
   "metadata": {},
   "outputs": [
    {
     "name": "stdout",
     "output_type": "stream",
     "text": [
      "Hey Pass, your password ****** is 6  letters long.\n"
     ]
    }
   ],
   "source": [
    "username = input('Enter your username:\\t')\n",
    "password = input('Enter you password:\\t')\n",
    "\n",
    "secret_password = len(password) * '*'\n",
    "print(f'Hey {username}, your password {secret_password} is {len(password)}  letters long.')\n"
   ]
  },
  {
   "cell_type": "code",
   "execution_count": 10,
   "metadata": {},
   "outputs": [
    {
     "name": "stdout",
     "output_type": "stream",
     "text": [
      "Your age is 28 years.\n"
     ]
    }
   ],
   "source": [
    "# Exercise Type Conversion\n",
    "# Write a program which tells your age\n",
    "\n",
    "birth_year = input('What year were you born?\\n')\n",
    "age = 2024 - int(birth_year)\n",
    "print(f'Your age is {age} years.')\n"
   ]
  },
  {
   "cell_type": "code",
   "execution_count": 12,
   "metadata": {},
   "outputs": [
    {
     "name": "stdout",
     "output_type": "stream",
     "text": [
      "b\n",
      "b\n",
      "['b', 'c']\n",
      "['z', 'b', 'c']\n",
      "['z', 2, 3]\n",
      "[1, 2, 3, 5]\n"
     ]
    }
   ],
   "source": [
    "\n",
    "new_list = ['a', 'b', 'c']\n",
    "print(new_list[1])\n",
    "print(new_list[-2])\n",
    "print(new_list[1:3])\n",
    "new_list[0] = 'z'\n",
    "print(new_list)\n",
    "\n",
    "my_list = [1,2,3]\n",
    "bonus = my_list + [5]\n",
    "my_list[0] = 'z'\n",
    "print(my_list)\n",
    "print(bonus)"
   ]
  },
  {
   "cell_type": "code",
   "execution_count": 15,
   "metadata": {},
   "outputs": [
    {
     "name": "stdout",
     "output_type": "stream",
     "text": [
      "Oranges\n"
     ]
    }
   ],
   "source": [
    "basket = [\"Banana\", [\"Apples\", [\"Oranges\"], \"Blueberries\"]];\n",
    "print(basket[1][1][0])"
   ]
  },
  {
   "cell_type": "code",
   "execution_count": 29,
   "metadata": {},
   "outputs": [
    {
     "name": "stdout",
     "output_type": "stream",
     "text": [
      "['Apples', 'Oranges', 'Blueberries']\n",
      "['Apples', 'Oranges']\n",
      "['Apples', 'Oranges', 'Kiwi']\n",
      "['Apples', 'Apples', 'Oranges', 'Kiwi']\n",
      "[]\n"
     ]
    }
   ],
   "source": [
    "# Exercise List Methods\n",
    "# SCROLL FOR ANSWERS!\n",
    "# using this list,\n",
    "basket = [\"Banana\", \"Apples\", \"Oranges\", \"Blueberries\"]\n",
    "\n",
    "# 1. Remove the Banana from the list\n",
    "basket.remove(\"Banana\")\n",
    "print(basket)\n",
    "# 2. Remove \"Blueberries\" from the list.\n",
    "basket.remove(\"Blueberries\")\n",
    "print(basket)\n",
    "# 3. Put \"Kiwi\" at the end of the list.\n",
    "basket.append(\"Kiwi\")\n",
    "print(basket)\n",
    "# 4. Add \"Apples\" at the beginning of the list\n",
    "basket.insert(0, 'Apples')\n",
    "print(basket)\n",
    "# 5. Count how many apples in the basket\n",
    "basket.count(\"Apples\")\n",
    "# 6. empty the basket\n",
    "basket.clear()\n",
    "print(basket)"
   ]
  },
  {
   "cell_type": "code",
   "execution_count": 39,
   "metadata": {},
   "outputs": [
    {
     "name": "stdout",
     "output_type": "stream",
     "text": [
      "['Amira', 'Carrie', 'Chu', 'Joy', 'Patty', 'Simon']\n",
      "['Amira', 'Carrie', 'Chu', 'Joy', 'Patty', 'Simon', 'Stanley']\n"
     ]
    }
   ],
   "source": [
    "#fix this code so that it prints a sorted list of all of our friends (alphabetical). \n",
    "friends = ['Simon', 'Patty', 'Joy', 'Carrie', 'Amira', 'Chu']\n",
    "\n",
    "new_friend = ['Stanley']\n",
    "\n",
    "friends.sort()\n",
    "print(friends)\n",
    "\n",
    "friends.extend(new_friend)\n",
    "print(friends)"
   ]
  },
  {
   "cell_type": "code",
   "execution_count": 44,
   "metadata": {},
   "outputs": [
    {
     "name": "stdout",
     "output_type": "stream",
     "text": [
      "dict_keys(['age', 'username', 'weapons', 'is_active', 'clan'])\n",
      "dict_keys(['age', 'username', 'weapons', 'is_active', 'clan'])\n"
     ]
    }
   ],
   "source": [
    "# Exercise Dictionary Methods\n",
    "# Scroll to see answers.\n",
    "\n",
    "# 1 Create a user profile for your new game.\n",
    "# This user profile will be stored in a dictionary with keys: 'age', 'username', 'weapons', 'is_active' and 'clan'\n",
    "user_profile = {\n",
    "    'age': 0,\n",
    "    'username': '',\n",
    "    'weapons': None,\n",
    "    'is_active': False,\n",
    "    'clan': None\n",
    "}\n",
    "# 2 iterate and print all the keys in the above user.\n",
    "print(user_profile.keys())\n",
    "# 3 Add a new weapon to your user\n",
    "user_profile['weapons'] = 'Katana'\n",
    "# 4 Add a new key to include 'is_banned'. Set it to false\n",
    "\n",
    "# 5 Ban the user by setting the previous key to True\n",
    "\n",
    "# 6 create a new user2 my copying the previous user and update the age value and username value.\n"
   ]
  }
 ],
 "metadata": {
  "kernelspec": {
   "display_name": "Python 3",
   "language": "python",
   "name": "python3"
  },
  "language_info": {
   "codemirror_mode": {
    "name": "ipython",
    "version": 3
   },
   "file_extension": ".py",
   "mimetype": "text/x-python",
   "name": "python",
   "nbconvert_exporter": "python",
   "pygments_lexer": "ipython3",
   "version": "3.9.6"
  }
 },
 "nbformat": 4,
 "nbformat_minor": 2
}
