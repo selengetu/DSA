{
  "cells": [
    {
      "cell_type": "markdown",
      "metadata": {
        "colab_type": "text",
        "id": "view-in-github"
      },
      "source": [
        "<a href=\"https://colab.research.google.com/github/selengetu/DSA/blob/main/Neetcode.ipynb\" target=\"_parent\"><img src=\"https://colab.research.google.com/assets/colab-badge.svg\" alt=\"Open In Colab\"/></a>"
      ]
    },
    {
      "cell_type": "code",
      "execution_count": 1,
      "metadata": {
        "colab": {
          "base_uri": "https://localhost:8080/"
        },
        "id": "a1-RtPMnRgEO",
        "outputId": "e7796b96-db51-41b1-c9fc-324f006a2df8"
      },
      "outputs": [
        {
          "name": "stdout",
          "output_type": "stream",
          "text": [
            "Hello World\n"
          ]
        }
      ],
      "source": [
        "print('Hello World')"
      ]
    },
    {
      "cell_type": "code",
      "execution_count": 2,
      "metadata": {
        "colab": {
          "base_uri": "https://localhost:8080/"
        },
        "id": "AbJl6sQeR52l",
        "outputId": "a4707813-a772-4c45-88c3-5cf5d94acd8c"
      },
      "outputs": [
        {
          "name": "stdout",
          "output_type": "stream",
          "text": [
            "My favorite quote is \"To be or not to be\"\n"
          ]
        }
      ],
      "source": [
        "print(\"My favorite quote is \\\"To be or not to be\\\"\")"
      ]
    },
    {
      "cell_type": "code",
      "execution_count": 3,
      "metadata": {
        "colab": {
          "base_uri": "https://localhost:8080/"
        },
        "id": "Al_O9hy2oqyU",
        "outputId": "85685f1e-39d0-4a5f-86bf-693a8602f49e"
      },
      "outputs": [
        {
          "name": "stdout",
          "output_type": "stream",
          "text": [
            "My favorite quote is \"To be or not to be\"\n"
          ]
        }
      ],
      "source": [
        "print('My favorite quote is \"To be or not to be\"')"
      ]
    },
    {
      "cell_type": "code",
      "execution_count": 5,
      "metadata": {},
      "outputs": [
        {
          "name": "stdout",
          "output_type": "stream",
          "text": [
            "3\n",
            "1\n",
            "256\n",
            "32768\n"
          ]
        }
      ],
      "source": [
        "a, b, c, = 2,8,5\n",
        "\n",
        "product_a_b = a*b\n",
        "\n",
        "print(product_a_b//c)\n",
        "\n",
        "print(product_a_b%c)\n",
        "\n",
        "print(a**b)\n",
        "\n",
        "print(b**c)"
      ]
    },
    {
      "cell_type": "code",
      "execution_count": 13,
      "metadata": {},
      "outputs": [
        {
          "name": "stdout",
          "output_type": "stream",
          "text": [
            "3\n"
          ]
        }
      ],
      "source": [
        "number = 0\n",
        "\n",
        "number = number +1\n",
        "\n",
        "number = number +2\n",
        "\n",
        "print(number)"
      ]
    },
    {
      "cell_type": "code",
      "execution_count": 14,
      "metadata": {},
      "outputs": [
        {
          "name": "stdout",
          "output_type": "stream",
          "text": [
            "3\n"
          ]
        }
      ],
      "source": [
        "number = 0\n",
        "number+= 1\n",
        "number+=2\n",
        "\n",
        "\n",
        "print(number)"
      ]
    },
    {
      "cell_type": "code",
      "execution_count": 15,
      "metadata": {},
      "outputs": [
        {
          "name": "stdout",
          "output_type": "stream",
          "text": [
            "False\n",
            "True\n",
            "True\n",
            "True\n"
          ]
        }
      ],
      "source": [
        "a,b,c,d = False, False, True, True\n",
        "\n",
        "print(a or b)\n",
        "\n",
        "print(c or b)\n",
        "\n",
        "print(d or c)\n",
        "\n",
        "print(a or b or d or c)"
      ]
    },
    {
      "cell_type": "code",
      "execution_count": 16,
      "metadata": {},
      "outputs": [
        {
          "name": "stdout",
          "output_type": "stream",
          "text": [
            "False\n",
            "False\n",
            "True\n",
            "False\n"
          ]
        }
      ],
      "source": [
        "a,b,c,d = False, False, True, True\n",
        "\n",
        "print(a and b)\n",
        "\n",
        "print(c and b)\n",
        "\n",
        "print(d and c)\n",
        "\n",
        "print(a and b and d and c)"
      ]
    },
    {
      "cell_type": "code",
      "execution_count": 17,
      "metadata": {},
      "outputs": [
        {
          "name": "stdout",
          "output_type": "stream",
          "text": [
            "True\n",
            "False\n"
          ]
        }
      ],
      "source": [
        "a,b= False, True\n",
        "\n",
        "print(not a)\n",
        "print(not b)"
      ]
    },
    {
      "cell_type": "code",
      "execution_count": 19,
      "metadata": {},
      "outputs": [
        {
          "name": "stdout",
          "output_type": "stream",
          "text": [
            "Hello World\n"
          ]
        }
      ],
      "source": [
        "def greet():\n",
        "    print(\"Hello World\")\n",
        "\n",
        "greet()"
      ]
    },
    {
      "cell_type": "code",
      "execution_count": 21,
      "metadata": {},
      "outputs": [
        {
          "name": "stdout",
          "output_type": "stream",
          "text": [
            "Hello, Alice\n",
            "Hello, Mike\n"
          ]
        }
      ],
      "source": [
        "def greet(name):\n",
        "    msg = \"Hello, \" + name\n",
        "    print(msg)\n",
        "\n",
        "greet(\"Alice\")\n",
        "greet(\"Mike\")"
      ]
    },
    {
      "cell_type": "code",
      "execution_count": 26,
      "metadata": {},
      "outputs": [
        {
          "data": {
            "text/plain": [
              "15"
            ]
          },
          "execution_count": 26,
          "metadata": {},
          "output_type": "execute_result"
        }
      ],
      "source": [
        "def add(x,y):\n",
        "    return x+y\n",
        "add(7,8)"
      ]
    },
    {
      "cell_type": "code",
      "execution_count": 32,
      "metadata": {},
      "outputs": [
        {
          "name": "stdout",
          "output_type": "stream",
          "text": [
            "hello alice\n"
          ]
        }
      ],
      "source": [
        "def greet(name:str)-> None:\n",
        "    print(\"hello \" +name) \n",
        "    return None\n",
        "greet(\"alice\")"
      ]
    },
    {
      "cell_type": "code",
      "execution_count": 2,
      "metadata": {},
      "outputs": [
        {
          "data": {
            "text/plain": [
              "False"
            ]
          },
          "execution_count": 2,
          "metadata": {},
          "output_type": "execute_result"
        }
      ],
      "source": [
        "def check_equal(x,y)->bool:\n",
        "    return x== y\n",
        "check_equal(7,8)"
      ]
    },
    {
      "cell_type": "code",
      "execution_count": 3,
      "metadata": {},
      "outputs": [
        {
          "name": "stdout",
          "output_type": "stream",
          "text": [
            "Your account is overdrawn\n"
          ]
        }
      ],
      "source": [
        "account_balance = -100\n",
        "\n",
        "if account_balance < 0:\n",
        "    print(\"Your account is overdrawn\")\n"
      ]
    }
  ],
  "metadata": {
    "colab": {
      "authorship_tag": "ABX9TyPryx8ZoANq8wd+jGje6d/0",
      "include_colab_link": true,
      "provenance": []
    },
    "kernelspec": {
      "display_name": "base",
      "language": "python",
      "name": "python3"
    },
    "language_info": {
      "codemirror_mode": {
        "name": "ipython",
        "version": 3
      },
      "file_extension": ".py",
      "mimetype": "text/x-python",
      "name": "python",
      "nbconvert_exporter": "python",
      "pygments_lexer": "ipython3",
      "version": "3.11.5"
    }
  },
  "nbformat": 4,
  "nbformat_minor": 0
}
