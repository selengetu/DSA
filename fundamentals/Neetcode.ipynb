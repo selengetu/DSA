{
  "cells": [
    {
      "cell_type": "markdown",
      "metadata": {
        "colab_type": "text",
        "id": "view-in-github"
      },
      "source": [
        "<a href=\"https://colab.research.google.com/github/selengetu/DSA/blob/main/Neetcode.ipynb\" target=\"_parent\"><img src=\"https://colab.research.google.com/assets/colab-badge.svg\" alt=\"Open In Colab\"/></a>"
      ]
    },
    {
      "cell_type": "code",
      "execution_count": 1,
      "metadata": {
        "colab": {
          "base_uri": "https://localhost:8080/"
        },
        "id": "a1-RtPMnRgEO",
        "outputId": "e7796b96-db51-41b1-c9fc-324f006a2df8"
      },
      "outputs": [
        {
          "name": "stdout",
          "output_type": "stream",
          "text": [
            "Hello World\n"
          ]
        }
      ],
      "source": [
        "print('Hello World')"
      ]
    },
    {
      "cell_type": "code",
      "execution_count": 2,
      "metadata": {
        "colab": {
          "base_uri": "https://localhost:8080/"
        },
        "id": "AbJl6sQeR52l",
        "outputId": "a4707813-a772-4c45-88c3-5cf5d94acd8c"
      },
      "outputs": [
        {
          "name": "stdout",
          "output_type": "stream",
          "text": [
            "My favorite quote is \"To be or not to be\"\n"
          ]
        }
      ],
      "source": [
        "print(\"My favorite quote is \\\"To be or not to be\\\"\")"
      ]
    },
    {
      "cell_type": "code",
      "execution_count": 3,
      "metadata": {
        "colab": {
          "base_uri": "https://localhost:8080/"
        },
        "id": "Al_O9hy2oqyU",
        "outputId": "85685f1e-39d0-4a5f-86bf-693a8602f49e"
      },
      "outputs": [
        {
          "name": "stdout",
          "output_type": "stream",
          "text": [
            "My favorite quote is \"To be or not to be\"\n"
          ]
        }
      ],
      "source": [
        "print('My favorite quote is \"To be or not to be\"')"
      ]
    },
    {
      "cell_type": "code",
      "execution_count": 5,
      "metadata": {},
      "outputs": [
        {
          "name": "stdout",
          "output_type": "stream",
          "text": [
            "3\n",
            "1\n",
            "256\n",
            "32768\n"
          ]
        }
      ],
      "source": [
        "a, b, c, = 2,8,5\n",
        "\n",
        "product_a_b = a*b\n",
        "\n",
        "print(product_a_b//c)\n",
        "\n",
        "print(product_a_b%c)\n",
        "\n",
        "print(a**b)\n",
        "\n",
        "print(b**c)"
      ]
    },
    {
      "cell_type": "code",
      "execution_count": 13,
      "metadata": {},
      "outputs": [
        {
          "name": "stdout",
          "output_type": "stream",
          "text": [
            "3\n"
          ]
        }
      ],
      "source": [
        "number = 0\n",
        "\n",
        "number = number +1\n",
        "\n",
        "number = number +2\n",
        "\n",
        "print(number)"
      ]
    },
    {
      "cell_type": "code",
      "execution_count": 14,
      "metadata": {},
      "outputs": [
        {
          "name": "stdout",
          "output_type": "stream",
          "text": [
            "3\n"
          ]
        }
      ],
      "source": [
        "number = 0\n",
        "number+= 1\n",
        "number+=2\n",
        "\n",
        "\n",
        "print(number)"
      ]
    },
    {
      "cell_type": "code",
      "execution_count": 15,
      "metadata": {},
      "outputs": [
        {
          "name": "stdout",
          "output_type": "stream",
          "text": [
            "False\n",
            "True\n",
            "True\n",
            "True\n"
          ]
        }
      ],
      "source": [
        "a,b,c,d = False, False, True, True\n",
        "\n",
        "print(a or b)\n",
        "\n",
        "print(c or b)\n",
        "\n",
        "print(d or c)\n",
        "\n",
        "print(a or b or d or c)"
      ]
    },
    {
      "cell_type": "code",
      "execution_count": 16,
      "metadata": {},
      "outputs": [
        {
          "name": "stdout",
          "output_type": "stream",
          "text": [
            "False\n",
            "False\n",
            "True\n",
            "False\n"
          ]
        }
      ],
      "source": [
        "a,b,c,d = False, False, True, True\n",
        "\n",
        "print(a and b)\n",
        "\n",
        "print(c and b)\n",
        "\n",
        "print(d and c)\n",
        "\n",
        "print(a and b and d and c)"
      ]
    },
    {
      "cell_type": "code",
      "execution_count": 17,
      "metadata": {},
      "outputs": [
        {
          "name": "stdout",
          "output_type": "stream",
          "text": [
            "True\n",
            "False\n"
          ]
        }
      ],
      "source": [
        "a,b= False, True\n",
        "\n",
        "print(not a)\n",
        "print(not b)"
      ]
    },
    {
      "cell_type": "code",
      "execution_count": 19,
      "metadata": {},
      "outputs": [
        {
          "name": "stdout",
          "output_type": "stream",
          "text": [
            "Hello World\n"
          ]
        }
      ],
      "source": [
        "def greet():\n",
        "    print(\"Hello World\")\n",
        "\n",
        "greet()"
      ]
    },
    {
      "cell_type": "code",
      "execution_count": 21,
      "metadata": {},
      "outputs": [
        {
          "name": "stdout",
          "output_type": "stream",
          "text": [
            "Hello, Alice\n",
            "Hello, Mike\n"
          ]
        }
      ],
      "source": [
        "def greet(name):\n",
        "    msg = \"Hello, \" + name\n",
        "    print(msg)\n",
        "\n",
        "greet(\"Alice\")\n",
        "greet(\"Mike\")"
      ]
    },
    {
      "cell_type": "code",
      "execution_count": 26,
      "metadata": {},
      "outputs": [
        {
          "data": {
            "text/plain": [
              "15"
            ]
          },
          "execution_count": 26,
          "metadata": {},
          "output_type": "execute_result"
        }
      ],
      "source": [
        "def add(x,y):\n",
        "    return x+y\n",
        "add(7,8)"
      ]
    },
    {
      "cell_type": "code",
      "execution_count": 32,
      "metadata": {},
      "outputs": [
        {
          "name": "stdout",
          "output_type": "stream",
          "text": [
            "hello alice\n"
          ]
        }
      ],
      "source": [
        "def greet(name:str)-> None:\n",
        "    print(\"hello \" +name) \n",
        "    return None\n",
        "greet(\"alice\")"
      ]
    },
    {
      "cell_type": "code",
      "execution_count": 2,
      "metadata": {},
      "outputs": [
        {
          "data": {
            "text/plain": [
              "False"
            ]
          },
          "execution_count": 2,
          "metadata": {},
          "output_type": "execute_result"
        }
      ],
      "source": [
        "def check_equal(x,y)->bool:\n",
        "    return x== y\n",
        "check_equal(7,8)"
      ]
    },
    {
      "cell_type": "code",
      "execution_count": 3,
      "metadata": {},
      "outputs": [
        {
          "name": "stdout",
          "output_type": "stream",
          "text": [
            "Your account is overdrawn\n"
          ]
        }
      ],
      "source": [
        "account_balance = -100\n",
        "\n",
        "if account_balance < 0:\n",
        "    print(\"Your account is overdrawn\")\n"
      ]
    },
    {
      "cell_type": "code",
      "execution_count": 6,
      "metadata": {},
      "outputs": [
        {
          "name": "stdout",
          "output_type": "stream",
          "text": [
            "Warning!\n"
          ]
        }
      ],
      "source": [
        "def is_low_balance(balance:int):\n",
        "    if balance>= 0:\n",
        "        message = \"Warning!\"\n",
        "    print(message)\n",
        "is_low_balance(59)\n"
      ]
    },
    {
      "cell_type": "code",
      "execution_count": 7,
      "metadata": {},
      "outputs": [
        {
          "name": "stdout",
          "output_type": "stream",
          "text": [
            "50\n",
            "0\n",
            "100\n"
          ]
        }
      ],
      "source": [
        "def pay_bill(balance: int, bill:int)->int:\n",
        "    new_balance = balance\n",
        "    if balance>=bill:\n",
        "        new_balance = balance - bill\n",
        "        return new_balance\n",
        "    return new_balance\n",
        "\n",
        "print(pay_bill(100,50))\n",
        "print(pay_bill(100,100))\n",
        "print(pay_bill(100,150))"
      ]
    },
    {
      "cell_type": "code",
      "execution_count": 9,
      "metadata": {},
      "outputs": [
        {
          "data": {
            "text/plain": [
              "8"
            ]
          },
          "execution_count": 9,
          "metadata": {},
          "output_type": "execute_result"
        }
      ],
      "source": [
        "def get_max(a:int, b:int)->int:\n",
        "    if a<b:\n",
        "        return a\n",
        "    else:\n",
        "        return b\n",
        "\n",
        "get_max(10,8)"
      ]
    },
    {
      "cell_type": "code",
      "execution_count": 13,
      "metadata": {},
      "outputs": [
        {
          "name": "stdout",
          "output_type": "stream",
          "text": [
            "I love Python\n",
            "I love Python\n",
            "I love Python\n",
            "I love Python\n",
            "I love Python\n",
            "I love Python\n"
          ]
        }
      ],
      "source": [
        "i = 0\n",
        "while i<=5:\n",
        "    print(\"I love Python\")\n",
        "    i+=1"
      ]
    },
    {
      "cell_type": "code",
      "execution_count": 14,
      "metadata": {},
      "outputs": [
        {
          "name": "stdout",
          "output_type": "stream",
          "text": [
            "0\n",
            "1\n",
            "2\n",
            "3\n",
            "4\n",
            "5\n",
            "6\n",
            "7\n",
            "8\n",
            "9\n"
          ]
        }
      ],
      "source": [
        "for i in range(10):\n",
        "    print(i)"
      ]
    },
    {
      "cell_type": "code",
      "execution_count": 15,
      "metadata": {},
      "outputs": [
        {
          "name": "stdout",
          "output_type": "stream",
          "text": [
            "2\n",
            "3\n",
            "4\n"
          ]
        }
      ],
      "source": [
        "for i in range(2,5):\n",
        "    print(i)"
      ]
    },
    {
      "cell_type": "code",
      "execution_count": 18,
      "metadata": {},
      "outputs": [
        {
          "name": "stdout",
          "output_type": "stream",
          "text": [
            "10\n",
            "20\n",
            "30\n",
            "40\n",
            "50\n",
            "60\n",
            "70\n",
            "80\n",
            "90\n",
            "100\n"
          ]
        }
      ],
      "source": [
        "for i in range(10,110,10):\n",
        "    print(i)"
      ]
    },
    {
      "cell_type": "code",
      "execution_count": 20,
      "metadata": {},
      "outputs": [
        {
          "name": "stdout",
          "output_type": "stream",
          "text": [
            "10\n",
            "9\n",
            "8\n",
            "7\n",
            "6\n",
            "5\n",
            "4\n",
            "3\n",
            "2\n",
            "1\n"
          ]
        }
      ],
      "source": [
        "for i in range(10,0,-1):\n",
        "    print(i)"
      ]
    },
    {
      "cell_type": "code",
      "execution_count": 24,
      "metadata": {},
      "outputs": [
        {
          "name": "stdout",
          "output_type": "stream",
          "text": [
            "20\n",
            "19\n",
            "18\n",
            "17\n",
            "16\n",
            "15\n",
            "14\n",
            "13\n",
            "12\n",
            "11\n",
            "10\n"
          ]
        }
      ],
      "source": [
        "for i in reversed(range(10,21)):\n",
        "    print(i)"
      ]
    },
    {
      "cell_type": "code",
      "execution_count": 26,
      "metadata": {},
      "outputs": [
        {
          "name": "stdout",
          "output_type": "stream",
          "text": [
            "1 1\n",
            "1 2\n",
            "1 3\n",
            "2 1\n",
            "2 2\n",
            "2 3\n",
            "3 1\n",
            "3 2\n",
            "3 3\n"
          ]
        }
      ],
      "source": [
        "for i in range(1,4):\n",
        "    for j in range(1,4):\n",
        "        print(i,j)"
      ]
    },
    {
      "cell_type": "code",
      "execution_count": 27,
      "metadata": {},
      "outputs": [
        {
          "name": "stdout",
          "output_type": "stream",
          "text": [
            "1 5\n",
            "1 6\n",
            "1 7\n",
            "1 8\n",
            "2 5\n",
            "2 6\n",
            "2 7\n",
            "2 8\n",
            "3 5\n",
            "3 6\n",
            "3 7\n",
            "3 8\n"
          ]
        }
      ],
      "source": [
        "for i in range(1,4):\n",
        "    for j in range(5,9):\n",
        "        print(i,j)"
      ]
    },
    {
      "cell_type": "code",
      "execution_count": 33,
      "metadata": {},
      "outputs": [
        {
          "name": "stdout",
          "output_type": "stream",
          "text": [
            "8\n",
            "e\n"
          ]
        }
      ],
      "source": [
        "my_str = \"Neetcode\"\n",
        "\n",
        "print(len(my_str))\n",
        "print(my_str[1])"
      ]
    },
    {
      "cell_type": "code",
      "execution_count": 32,
      "metadata": {},
      "outputs": [
        {
          "data": {
            "text/plain": [
              "'bye'"
            ]
          },
          "execution_count": 32,
          "metadata": {},
          "output_type": "execute_result"
        }
      ],
      "source": [
        "def get_longer_word(word1: str, word2:str)->str:\n",
        "   if len(word1) >= len(word2):\n",
        "      return word1\n",
        "   else:\n",
        "      return word2\n",
        "   \n",
        "get_longer_word('bye', 'cat')\n",
        "\n",
        "\n"
      ]
    },
    {
      "cell_type": "code",
      "execution_count": 36,
      "metadata": {},
      "outputs": [
        {
          "name": "stdout",
          "output_type": "stream",
          "text": [
            "N\n",
            "e\n",
            "e\n",
            "t\n",
            "c\n",
            "o\n",
            "d\n",
            "e\n"
          ]
        }
      ],
      "source": [
        "my_str = \"Neetcode\"\n",
        "\n",
        "for i in range(len(my_str)):\n",
        "    print(my_str[i])"
      ]
    },
    {
      "cell_type": "code",
      "execution_count": 37,
      "metadata": {},
      "outputs": [
        {
          "name": "stdout",
          "output_type": "stream",
          "text": [
            "N\n",
            "e\n",
            "e\n",
            "t\n",
            "c\n",
            "o\n",
            "d\n",
            "e\n"
          ]
        }
      ],
      "source": [
        "for char in my_str:\n",
        "    print(char)"
      ]
    },
    {
      "cell_type": "code",
      "execution_count": 47,
      "metadata": {},
      "outputs": [
        {
          "name": "stdout",
          "output_type": "stream",
          "text": [
            "Neetc\n"
          ]
        }
      ],
      "source": [
        "my_str = \"Neetcode\"\n",
        "start, end = 1,5\n",
        "\n",
        "print(my_str[:5])"
      ]
    },
    {
      "cell_type": "code",
      "execution_count": 48,
      "metadata": {},
      "outputs": [
        {
          "data": {
            "text/plain": [
              "'edocteeN'"
            ]
          },
          "execution_count": 48,
          "metadata": {},
          "output_type": "execute_result"
        }
      ],
      "source": [
        "my_str = \"Neetcode\"\n",
        "my_str[::-1]"
      ]
    },
    {
      "cell_type": "code",
      "execution_count": 52,
      "metadata": {},
      "outputs": [
        {
          "name": "stdout",
          "output_type": "stream",
          "text": [
            "My name is alice. I'm 25 years old\n",
            "My name is alice. I'm 25 years old\n"
          ]
        }
      ],
      "source": [
        "name = \"alice\"\n",
        "\n",
        "age = 25\n",
        "\n",
        "msg = \"My name is {}. I'm {} years old\".format(name, age)\n",
        "print(msg)\n",
        "\n",
        "msg1 = f\"My name is {name}. I'm {age} years old\"\n",
        "print(msg1)"
      ]
    },
    {
      "cell_type": "code",
      "execution_count": 59,
      "metadata": {},
      "outputs": [
        {
          "data": {
            "text/plain": [
              "2"
            ]
          },
          "execution_count": 59,
          "metadata": {},
          "output_type": "execute_result"
        }
      ],
      "source": [
        "from typing import List \n",
        "\n",
        "def get_min(nums:List[int])->int:\n",
        "    cur_min = nums[0]\n",
        "    for n in nums:\n",
        "       if n<cur_min:\n",
        "           cur_min = n\n",
        "    return cur_min\n",
        "\n",
        "get_min([6,5,8,9,2])"
      ]
    },
    {
      "cell_type": "code",
      "execution_count": 65,
      "metadata": {},
      "outputs": [
        {
          "name": "stdout",
          "output_type": "stream",
          "text": [
            "[1, 2, 3, 9]\n",
            "[1, 3, 9]\n"
          ]
        }
      ],
      "source": [
        "my_list = [1,2,3]\n",
        "\n",
        "my_list.append(9)\n",
        "\n",
        "print(my_list)\n",
        "\n",
        "my_list.pop(1)\n",
        "\n",
        "print(my_list)"
      ]
    }
  ],
  "metadata": {
    "colab": {
      "authorship_tag": "ABX9TyPryx8ZoANq8wd+jGje6d/0",
      "include_colab_link": true,
      "provenance": []
    },
    "kernelspec": {
      "display_name": "base",
      "language": "python",
      "name": "python3"
    },
    "language_info": {
      "codemirror_mode": {
        "name": "ipython",
        "version": 3
      },
      "file_extension": ".py",
      "mimetype": "text/x-python",
      "name": "python",
      "nbconvert_exporter": "python",
      "pygments_lexer": "ipython3",
      "version": "3.11.5"
    }
  },
  "nbformat": 4,
  "nbformat_minor": 0
}
